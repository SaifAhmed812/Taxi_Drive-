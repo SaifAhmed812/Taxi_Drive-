{
 "cells": [
  {
   "cell_type": "code",
   "execution_count": 2,
   "metadata": {},
   "outputs": [],
   "source": [
    "import pandas as pd"
   ]
  },
  {
   "cell_type": "code",
   "execution_count": 4,
   "metadata": {},
   "outputs": [],
   "source": [
    "df = pd.read_csv(\"E:\\Epsilon_ai\\Final_Project\\Github\\_Cleaned_locations.csv\")"
   ]
  },
  {
   "cell_type": "code",
   "execution_count": 24,
   "metadata": {},
   "outputs": [
    {
     "data": {
      "text/plain": [
       "Column2\n",
       "Allerton/Pelham Gardens    13\n",
       "Alphabet City              78\n",
       "Astoria                    82\n",
       "Auburndale                  6\n",
       "Battery Park               12\n",
       "Battery Park City          84\n",
       "Bay Ridge                  24\n",
       "Bayside                     5\n",
       "Bedford                    32\n",
       "Bedford Park                6\n",
       "Belmont                    25\n",
       "Bensonhurst East            8\n",
       "Bensonhurst West           12\n",
       "Bloomingdale               68\n",
       "Boerum Hill                81\n",
       "Borough Park               16\n",
       "Briarwood/Jamaica Hills    10\n",
       "Brighton Beach             14\n",
       "Bronx Park                  8\n",
       "Bronxdale                  20\n",
       "Name: Column1, dtype: int64"
      ]
     },
     "execution_count": 24,
     "metadata": {},
     "output_type": "execute_result"
    }
   ],
   "source": [
    "df.groupby(\"Column2\")[\"Column1\"].count().head(20)"
   ]
  },
  {
   "cell_type": "code",
   "execution_count": 8,
   "metadata": {},
   "outputs": [
    {
     "data": {
      "text/html": [
       "<div>\n",
       "<style scoped>\n",
       "    .dataframe tbody tr th:only-of-type {\n",
       "        vertical-align: middle;\n",
       "    }\n",
       "\n",
       "    .dataframe tbody tr th {\n",
       "        vertical-align: top;\n",
       "    }\n",
       "\n",
       "    .dataframe thead th {\n",
       "        text-align: right;\n",
       "    }\n",
       "</style>\n",
       "<table border=\"1\" class=\"dataframe\">\n",
       "  <thead>\n",
       "    <tr style=\"text-align: right;\">\n",
       "      <th></th>\n",
       "      <th>Column1</th>\n",
       "      <th>Column2</th>\n",
       "      <th>Column3</th>\n",
       "    </tr>\n",
       "  </thead>\n",
       "  <tbody>\n",
       "    <tr>\n",
       "      <th>0</th>\n",
       "      <td>Allerton/Pelham Gardens</td>\n",
       "      <td>Astoria</td>\n",
       "      <td>3.646000</td>\n",
       "    </tr>\n",
       "    <tr>\n",
       "      <th>1</th>\n",
       "      <td>Allerton/Pelham Gardens</td>\n",
       "      <td>Claremont/Bathgate</td>\n",
       "      <td>2.420000</td>\n",
       "    </tr>\n",
       "    <tr>\n",
       "      <th>2</th>\n",
       "      <td>Allerton/Pelham Gardens</td>\n",
       "      <td>Cobble Hill</td>\n",
       "      <td>3.833333</td>\n",
       "    </tr>\n",
       "    <tr>\n",
       "      <th>3</th>\n",
       "      <td>Allerton/Pelham Gardens</td>\n",
       "      <td>DUMBO/Vinegar Hill</td>\n",
       "      <td>3.932500</td>\n",
       "    </tr>\n",
       "    <tr>\n",
       "      <th>4</th>\n",
       "      <td>Allerton/Pelham Gardens</td>\n",
       "      <td>Downtown Brooklyn/MetroTech</td>\n",
       "      <td>3.544286</td>\n",
       "    </tr>\n",
       "  </tbody>\n",
       "</table>\n",
       "</div>"
      ],
      "text/plain": [
       "                   Column1                      Column2   Column3\n",
       "0  Allerton/Pelham Gardens                      Astoria  3.646000\n",
       "1  Allerton/Pelham Gardens           Claremont/Bathgate  2.420000\n",
       "2  Allerton/Pelham Gardens                  Cobble Hill  3.833333\n",
       "3  Allerton/Pelham Gardens           DUMBO/Vinegar Hill  3.932500\n",
       "4  Allerton/Pelham Gardens  Downtown Brooklyn/MetroTech  3.544286"
      ]
     },
     "execution_count": 8,
     "metadata": {},
     "output_type": "execute_result"
    }
   ],
   "source": [
    "df.head()"
   ]
  },
  {
   "cell_type": "code",
   "execution_count": 25,
   "metadata": {},
   "outputs": [
    {
     "data": {
      "text/html": [
       "<div>\n",
       "<style scoped>\n",
       "    .dataframe tbody tr th:only-of-type {\n",
       "        vertical-align: middle;\n",
       "    }\n",
       "\n",
       "    .dataframe tbody tr th {\n",
       "        vertical-align: top;\n",
       "    }\n",
       "\n",
       "    .dataframe thead th {\n",
       "        text-align: right;\n",
       "    }\n",
       "</style>\n",
       "<table border=\"1\" class=\"dataframe\">\n",
       "  <thead>\n",
       "    <tr style=\"text-align: right;\">\n",
       "      <th></th>\n",
       "      <th>Column1</th>\n",
       "      <th>Column2</th>\n",
       "      <th>Column3</th>\n",
       "    </tr>\n",
       "  </thead>\n",
       "  <tbody>\n",
       "  </tbody>\n",
       "</table>\n",
       "</div>"
      ],
      "text/plain": [
       "Empty DataFrame\n",
       "Columns: [Column1, Column2, Column3]\n",
       "Index: []"
      ]
     },
     "execution_count": 25,
     "metadata": {},
     "output_type": "execute_result"
    }
   ],
   "source": [
    "df[(df[\"Column1\"] == \"Battery Park\") & ((df[\"Column2\"] == \"Cobble Hill\"))]"
   ]
  },
  {
   "cell_type": "code",
   "execution_count": 26,
   "metadata": {},
   "outputs": [
    {
     "data": {
      "text/html": [
       "<div>\n",
       "<style scoped>\n",
       "    .dataframe tbody tr th:only-of-type {\n",
       "        vertical-align: middle;\n",
       "    }\n",
       "\n",
       "    .dataframe tbody tr th {\n",
       "        vertical-align: top;\n",
       "    }\n",
       "\n",
       "    .dataframe thead th {\n",
       "        text-align: right;\n",
       "    }\n",
       "</style>\n",
       "<table border=\"1\" class=\"dataframe\">\n",
       "  <thead>\n",
       "    <tr style=\"text-align: right;\">\n",
       "      <th></th>\n",
       "      <th>Column1</th>\n",
       "      <th>Column2</th>\n",
       "      <th>Column3</th>\n",
       "    </tr>\n",
       "  </thead>\n",
       "  <tbody>\n",
       "    <tr>\n",
       "      <th>2</th>\n",
       "      <td>Allerton/Pelham Gardens</td>\n",
       "      <td>Cobble Hill</td>\n",
       "      <td>3.833333</td>\n",
       "    </tr>\n",
       "    <tr>\n",
       "      <th>200</th>\n",
       "      <td>Battery Park City</td>\n",
       "      <td>Cobble Hill</td>\n",
       "      <td>2.138980</td>\n",
       "    </tr>\n",
       "    <tr>\n",
       "      <th>394</th>\n",
       "      <td>Bensonhurst West</td>\n",
       "      <td>Cobble Hill</td>\n",
       "      <td>5.055000</td>\n",
       "    </tr>\n",
       "    <tr>\n",
       "      <th>491</th>\n",
       "      <td>Boerum Hill</td>\n",
       "      <td>Cobble Hill</td>\n",
       "      <td>0.404000</td>\n",
       "    </tr>\n",
       "    <tr>\n",
       "      <th>643</th>\n",
       "      <td>Bronx Park</td>\n",
       "      <td>Cobble Hill</td>\n",
       "      <td>4.436667</td>\n",
       "    </tr>\n",
       "    <tr>\n",
       "      <th>...</th>\n",
       "      <td>...</td>\n",
       "      <td>...</td>\n",
       "      <td>...</td>\n",
       "    </tr>\n",
       "    <tr>\n",
       "      <th>7938</th>\n",
       "      <td>West Concourse</td>\n",
       "      <td>Cobble Hill</td>\n",
       "      <td>4.246667</td>\n",
       "    </tr>\n",
       "    <tr>\n",
       "      <th>8276</th>\n",
       "      <td>Windsor Terrace</td>\n",
       "      <td>Cobble Hill</td>\n",
       "      <td>3.373143</td>\n",
       "    </tr>\n",
       "    <tr>\n",
       "      <th>8312</th>\n",
       "      <td>Woodlawn/Wakefield</td>\n",
       "      <td>Cobble Hill</td>\n",
       "      <td>4.968000</td>\n",
       "    </tr>\n",
       "    <tr>\n",
       "      <th>8412</th>\n",
       "      <td>World Trade Center</td>\n",
       "      <td>Cobble Hill</td>\n",
       "      <td>1.804416</td>\n",
       "    </tr>\n",
       "    <tr>\n",
       "      <th>8468</th>\n",
       "      <td>Yorkville East</td>\n",
       "      <td>Cobble Hill</td>\n",
       "      <td>3.405152</td>\n",
       "    </tr>\n",
       "  </tbody>\n",
       "</table>\n",
       "<p>64 rows × 3 columns</p>\n",
       "</div>"
      ],
      "text/plain": [
       "                      Column1      Column2   Column3\n",
       "2     Allerton/Pelham Gardens  Cobble Hill  3.833333\n",
       "200         Battery Park City  Cobble Hill  2.138980\n",
       "394          Bensonhurst West  Cobble Hill  5.055000\n",
       "491               Boerum Hill  Cobble Hill  0.404000\n",
       "643                Bronx Park  Cobble Hill  4.436667\n",
       "...                       ...          ...       ...\n",
       "7938           West Concourse  Cobble Hill  4.246667\n",
       "8276          Windsor Terrace  Cobble Hill  3.373143\n",
       "8312       Woodlawn/Wakefield  Cobble Hill  4.968000\n",
       "8412       World Trade Center  Cobble Hill  1.804416\n",
       "8468           Yorkville East  Cobble Hill  3.405152\n",
       "\n",
       "[64 rows x 3 columns]"
      ]
     },
     "execution_count": 26,
     "metadata": {},
     "output_type": "execute_result"
    }
   ],
   "source": [
    "df[df[\"Column2\"] == \"Cobble Hill\"]"
   ]
  },
  {
   "cell_type": "code",
   "execution_count": null,
   "metadata": {},
   "outputs": [],
   "source": []
  }
 ],
 "metadata": {
  "kernelspec": {
   "display_name": "Python 3",
   "language": "python",
   "name": "python3"
  },
  "language_info": {
   "codemirror_mode": {
    "name": "ipython",
    "version": 3
   },
   "file_extension": ".py",
   "mimetype": "text/x-python",
   "name": "python",
   "nbconvert_exporter": "python",
   "pygments_lexer": "ipython3",
   "version": "3.7.6"
  }
 },
 "nbformat": 4,
 "nbformat_minor": 4
}
